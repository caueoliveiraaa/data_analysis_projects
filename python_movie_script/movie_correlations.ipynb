{
 "cells": [
  {
   "cell_type": "markdown",
   "metadata": {},
   "source": [
    "## Import libs and set up plots"
   ]
  },
  {
   "cell_type": "code",
   "execution_count": null,
   "metadata": {},
   "outputs": [],
   "source": [
    "import matplotlib\n",
    "import pandas as pd\n",
    "import numpy as np\n",
    "import seaborn as sns\n",
    "import matplotlib.pyplot as plt\n",
    "from matplotlib.pyplot import figure"
   ]
  },
  {
   "cell_type": "code",
   "execution_count": null,
   "metadata": {},
   "outputs": [],
   "source": [
    "# Set up the plot style and default size\n",
    "plt.style.use('ggplot')\n",
    "matplotlib.rcParams['figure.figsize'] = (12, 8)"
   ]
  },
  {
   "cell_type": "code",
   "execution_count": null,
   "metadata": {},
   "outputs": [],
   "source": [
    "# Read data from the csv\n",
    "df = pd.read_csv('dataset\\\\movies.csv')"
   ]
  },
  {
   "cell_type": "code",
   "execution_count": null,
   "metadata": {},
   "outputs": [],
   "source": [
    "# Display the five first rows\n",
    "df.head()"
   ]
  },
  {
   "cell_type": "markdown",
   "metadata": {},
   "source": [
    "## Display the percentage of null data"
   ]
  },
  {
   "cell_type": "code",
   "execution_count": null,
   "metadata": {},
   "outputs": [],
   "source": [
    "for col in df.columns:\n",
    "    percentage_missing = np.mean(df[col].isnull())\n",
    "    print('{} - {}%'.format(col, percentage_missing))"
   ]
  },
  {
   "cell_type": "markdown",
   "metadata": {},
   "source": [
    "## Display data types for all the columns"
   ]
  },
  {
   "cell_type": "code",
   "execution_count": null,
   "metadata": {},
   "outputs": [],
   "source": [
    "df.dtypes"
   ]
  },
  {
   "cell_type": "markdown",
   "metadata": {},
   "source": [
    "## Clean the data"
   ]
  },
  {
   "cell_type": "code",
   "execution_count": null,
   "metadata": {},
   "outputs": [],
   "source": [
    "# Change the type of columns to integer and replace NaN values with zero\n",
    "df['budget'] = df['budget'].fillna(0).astype('int64')\n",
    "df['gross'] = df['gross'].fillna(0).astype('int64')\n",
    "df.head()"
   ]
  },
  {
   "cell_type": "code",
   "execution_count": null,
   "metadata": {},
   "outputs": [],
   "source": [
    "# Clean date objects to convert them to dates\n",
    "country_name_pattern = r'\\s*\\(.*\\)'\n",
    "accepted_formats = ['%B %d, %Y', '%B %Y', '%Y']\n",
    "\n",
    "cleaned_string_dates = df['released'].str.replace(country_name_pattern, '', regex=True)\n",
    "cleaned_released_dates = pd.Series([None]*len(cleaned_string_dates))\n",
    "\n",
    "# Verify if dates are in the expected format\n",
    "for index, date_item in enumerate(cleaned_string_dates):\n",
    "    converted_item = None\n",
    "    for date_format in accepted_formats:\n",
    "        try:\n",
    "            converted_item = pd.to_datetime(date_item, format=date_format)\n",
    "            break\n",
    "        except:\n",
    "            pass\n",
    "        \n",
    "    # The .iloc indexer in pandas is used for integer-location based indexing and selection by position\n",
    "    cleaned_released_dates.iloc[index] = converted_item\n",
    "    if converted_item is None:\n",
    "        print(f'Date {date_item} could not be converted to formats: {accepted_formats}')\n",
    "    \n",
    "# Create correct year column\n",
    "cleaned_released_dates = pd.to_datetime(cleaned_released_dates, errors='coerce')\n",
    "df['yearcorrect'] = cleaned_released_dates.dt.year.astype('Int64').astype(str)\n",
    "df.head()"
   ]
  },
  {
   "cell_type": "markdown",
   "metadata": {},
   "source": [
    "## Sort the data and display plots"
   ]
  },
  {
   "cell_type": "code",
   "execution_count": null,
   "metadata": {},
   "outputs": [],
   "source": [
    "# Sort values of the column 'gross'\n",
    "df = df.sort_values(by=['gross'], inplace=False, ascending=False)\n",
    "# Drop duplicates to show only the distinct ones\n",
    "df['company'].drop_duplicates().sort_values(ascending=False)"
   ]
  },
  {
   "cell_type": "code",
   "execution_count": null,
   "metadata": {},
   "outputs": [],
   "source": [
    "# Scatter plot with the budget and the gross\n",
    "plt.scatter(x=df['budget'], y=df['gross'])\n",
    "plt.title('Budget VS Gross Earnings')\n",
    "plt.xlabel('Gross Earnings')\n",
    "plt.ylabel('Budget For Film')\n",
    "plt.show()"
   ]
  },
  {
   "cell_type": "code",
   "execution_count": null,
   "metadata": {},
   "outputs": [],
   "source": [
    "# Regression plot of budget vs gross earnings using seaborn\n",
    "sns.regplot(x='budget', y='gross', data=df, scatter_kws={'color': 'green'}, line_kws={'color': 'blue'})"
   ]
  },
  {
   "cell_type": "code",
   "execution_count": null,
   "metadata": {},
   "outputs": [],
   "source": [
    "# Looking at correlation\n",
    "df_correlations = df.select_dtypes(include=['number'])\n",
    "df_correlations.corr()"
   ]
  },
  {
   "cell_type": "code",
   "execution_count": null,
   "metadata": {},
   "outputs": [],
   "source": [
    "# Looking at a heatmap of the dataframe\n",
    "correlation_matrix = df_correlations.corr()\n",
    "sns.heatmap(correlation_matrix, annot=True)  \n",
    "plt.title('Correlation Matric For Numeric Features')\n",
    "plt.xlabel('Movie Features')\n",
    "plt.ylabel('Movie Features')\n",
    "plt.show()"
   ]
  },
  {
   "cell_type": "code",
   "execution_count": null,
   "metadata": {},
   "outputs": [],
   "source": [
    "# Catagorizing the columns that are not numerical\n",
    "df_catagorized = df\n",
    "\n",
    "for col_name in df_catagorized.columns:\n",
    "    if (df_catagorized[col_name].dtype == 'object'):\n",
    "        df_catagorized[col_name] = df_catagorized[col_name].astype('category')\n",
    "        df_catagorized[col_name] = df_catagorized[col_name].cat.codes\n",
    "        \n",
    "df_catagorized.head()"
   ]
  },
  {
   "cell_type": "code",
   "execution_count": null,
   "metadata": {},
   "outputs": [],
   "source": [
    "# Looking at a heapmap with the non-numerical data catagorized\n",
    "sns.heatmap(df_catagorized.corr(), annot=True)  \n",
    "plt.title('Correlation Matric For Numeric Features')\n",
    "plt.xlabel('Movie Features')\n",
    "plt.ylabel('Movie Features')\n",
    "plt.show()"
   ]
  },
  {
   "cell_type": "code",
   "execution_count": null,
   "metadata": {},
   "outputs": [],
   "source": [
    "# Convert the correlation matrix from dataframe into a series of correlation pairs.\n",
    "correlation_mat = df_catagorized.corr()\n",
    "corr_pairs = correlation_mat.unstack()\n",
    "corr_pairs"
   ]
  },
  {
   "cell_type": "code",
   "execution_count": null,
   "metadata": {},
   "outputs": [],
   "source": [
    "# Sort correlation pairs in ascending order based on their correlation values\n",
    "sorted_values = corr_pairs.sort_values()\n",
    "sorted_values"
   ]
  },
  {
   "cell_type": "code",
   "execution_count": null,
   "metadata": {},
   "outputs": [],
   "source": [
    "# Obtaining only the highest correlations\n",
    "high_correlation = sorted_values[sorted_values > 0.5]\n",
    "high_correlation"
   ]
  }
 ],
 "metadata": {
  "kernelspec": {
   "display_name": "env",
   "language": "python",
   "name": "python3"
  },
  "language_info": {
   "codemirror_mode": {
    "name": "ipython",
    "version": 3
   },
   "file_extension": ".py",
   "mimetype": "text/x-python",
   "name": "python",
   "nbconvert_exporter": "python",
   "pygments_lexer": "ipython3",
   "version": "3.12.1"
  }
 },
 "nbformat": 4,
 "nbformat_minor": 2
}
