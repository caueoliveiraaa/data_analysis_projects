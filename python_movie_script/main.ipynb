{
 "cells": [
  {
   "cell_type": "markdown",
   "metadata": {},
   "source": [
    "## Imports and setup"
   ]
  },
  {
   "cell_type": "code",
   "execution_count": null,
   "metadata": {},
   "outputs": [],
   "source": [
    "# Import necessary dependencies\n",
    "import matplotlib\n",
    "import pandas as pd\n",
    "import numpy as np\n",
    "import seaborn as sns\n",
    "import matplotlib.pyplot as plt\n",
    "from matplotlib.pyplot import figure"
   ]
  },
  {
   "cell_type": "code",
   "execution_count": null,
   "metadata": {},
   "outputs": [],
   "source": [
    "# Set up the plot style and default size for all plots created with matplotlib\n",
    "plt.style.use('ggplot')\n",
    "matplotlib.rcParams['figure.figsize'] = (12, 8)"
   ]
  },
  {
   "cell_type": "code",
   "execution_count": null,
   "metadata": {},
   "outputs": [],
   "source": [
    "# Read data from the csv\n",
    "df = pd.read_csv('dataset\\\\movies.csv')\n",
    "df"
   ]
  },
  {
   "cell_type": "code",
   "execution_count": null,
   "metadata": {},
   "outputs": [],
   "source": [
    "# Display the five first rows\n",
    "df.head()"
   ]
  },
  {
   "cell_type": "code",
   "execution_count": null,
   "metadata": {},
   "outputs": [],
   "source": [
    "# Verify if missing data exists\n",
    "for col in df.columns:\n",
    "    percentage_missing = np.mean(df[col].isnull())\n",
    "    print('{} - {}%'.format(col, percentage_missing))"
   ]
  },
  {
   "cell_type": "code",
   "execution_count": null,
   "metadata": {},
   "outputs": [],
   "source": [
    "# Display data types for the columns\n",
    "df.dtypes"
   ]
  },
  {
   "cell_type": "code",
   "execution_count": null,
   "metadata": {},
   "outputs": [],
   "source": [
    "# Change the type of columns to integer and replace NaN values with zero\n",
    "\n",
    "df['budget'] = df['budget'].fillna(0).astype('int64')\n",
    "# The fillna() is a method is used to fill missing values (NaN) in a DataFrame or Series with a specified value or method\n",
    "df['gross'] = df['gross'].fillna(0).astype('int64')\n",
    "df.head()"
   ]
  },
  {
   "cell_type": "markdown",
   "metadata": {},
   "source": [
    "## Data Cleaning"
   ]
  },
  {
   "cell_type": "code",
   "execution_count": null,
   "metadata": {},
   "outputs": [],
   "source": [
    "# Clean date objects to convert them to dates\n",
    "\n",
    "# r'': The r before the quotes indicates a raw string. Raw strings treat backslashes (\\) as literal characters and do not interpret them as escape characters.\n",
    "# \\s*: matches zero or more whitespace characters.\n",
    "# \\(: matches the literal opening parenthesis.\n",
    "# .*: matches zero or more of any character (except a newline).\n",
    "# \\): matches the literal closing parenthesis ).\n",
    "country_name_pattern = r'\\s*\\(.*\\)'\n",
    "cleaned_string_dates = df['released'].str.replace(country_name_pattern, '', regex=True)\n",
    "# [None]*len(released_clean): This creates a list containing None repeated as many times as there are elements in cleaned_string_dates\n",
    "# pd.Series([...]): a function from pandas that creates a Series, which is a one-dimensional array-like object that can hold any data type. It is similar to a column in a DataFrame.\n",
    "cleaned_released_dates = pd.Series([None]*len(cleaned_string_dates))\n",
    "accepted_formats = ['%B %d, %Y', '%B %Y', '%Y']\n",
    "\n",
    "# Verify if dates are in the expected format\n",
    "for index, date_item in enumerate(cleaned_string_dates):\n",
    "    converted_item = None\n",
    "    for date_format in accepted_formats:\n",
    "        try:\n",
    "            converted_item = pd.to_datetime(date_item, format=date_format)\n",
    "            break\n",
    "        except:\n",
    "            pass\n",
    "        \n",
    "    # The .iloc indexer in pandas is used for integer-location based indexing and selection by position\n",
    "    cleaned_released_dates.iloc[index] = converted_item\n",
    "    if converted_item is None:\n",
    "        print(f'Date {date_item} could not be converted to formats: {accepted_formats}')\n",
    "    \n",
    "# Create correct year column\n",
    "\n",
    "# errors='coerce': any values that cannot be converted to a valid datetime format will be set to NaT (Not a Time), which represents missing or null date values in pandas.\n",
    "cleaned_released_dates = pd.to_datetime(cleaned_released_dates, errors='coerce')\n",
    "df['yearcorrect'] = cleaned_released_dates.dt.year.astype('Int64').astype(str)\n",
    "df.head()"
   ]
  },
  {
   "cell_type": "code",
   "execution_count": null,
   "metadata": {},
   "outputs": [],
   "source": [
    "# Sort values of the column 'gross'\n",
    "\n",
    "# inplace=False: This means that the sorting operation will not modify the original DataFrame. Instead, it will return a new DataFrame with the sorted values.\n",
    "# inplace=True: If set to True, the sorting operation will modify the original DataFrame in place, and no new DataFrame will be returned.\n",
    "# ascending=False: This means that the sorting will be done in descending order.\n",
    "# ascending=True: If set to True, the sorting will be done in ascending order, meaning the gross column will be sorted from lowest to highest.\n",
    "df.sort_values(by=['gross'], inplace=False, ascending=False)"
   ]
  },
  {
   "cell_type": "code",
   "execution_count": null,
   "metadata": {},
   "outputs": [
    {
     "data": {
      "text/plain": [
       "7129                                thefyzz\n",
       "5664                            micro_scope\n",
       "6412               iDeal Partners Film Fund\n",
       "4007                               i5 Films\n",
       "6793                             i am OTHER\n",
       "                       ...                 \n",
       "3748                     1+2 Seisaku Iinkai\n",
       "3024                        .406 Production\n",
       "7525    \"Weathering With You\" Film Partners\n",
       "4345        \"DIA\" Productions GmbH & Co. KG\n",
       "408                                     NaN\n",
       "Name: company, Length: 2386, dtype: object"
      ]
     },
     "execution_count": 15,
     "metadata": {},
     "output_type": "execute_result"
    }
   ],
   "source": [
    "# Drop duplicates to show only the distinct ones\n",
    "df['company'].drop_duplicates().sort_values(ascending=False)"
   ]
  }
 ],
 "metadata": {
  "kernelspec": {
   "display_name": "env",
   "language": "python",
   "name": "python3"
  },
  "language_info": {
   "codemirror_mode": {
    "name": "ipython",
    "version": 3
   },
   "file_extension": ".py",
   "mimetype": "text/x-python",
   "name": "python",
   "nbconvert_exporter": "python",
   "pygments_lexer": "ipython3",
   "version": "3.12.1"
  }
 },
 "nbformat": 4,
 "nbformat_minor": 2
}
